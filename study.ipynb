{
 "cells": [
  {
   "cell_type": "code",
   "execution_count": 11,
   "metadata": {},
   "outputs": [],
   "source": [
    "import pandas as pd\n",
    "import os\n"
   ]
  },
  {
   "cell_type": "code",
   "execution_count": 12,
   "metadata": {},
   "outputs": [
    {
     "name": "stdout",
     "output_type": "stream",
     "text": [
      "['Run_01_step_1.csv', 'Run_02_step_1.csv', 'Run_03_step_1.csv', 'Run_04_step_1.csv', 'Run_05_step_1.csv', 'Run_06_step_1.csv', 'Run_07_step_1.csv', 'Run_08_step_1.csv', 'Run_09_step_1.csv', 'Run_10_step_1.csv']\n"
     ]
    }
   ],
   "source": [
    "# load all files from Study Directory\n",
    "path = os.path.join(os.getcwd(), 'Study')\n",
    "files = os.listdir(path)\n",
    "print(sorted(files))\n",
    "\n",
    "# load all csv files into a list of dataframes\n",
    "dfs_runs = []\n",
    "for file in files:\n",
    "    if file.endswith(\".csv\"):\n",
    "        df = pd.read_csv(os.path.join(path, file))\n",
    "        dfs_runs.append(df)\n",
    "\n",
    "# delete the last columnof all dataframes in df_runs\n",
    "for df in dfs_runs:\n",
    "    df.drop(df.columns[-1], axis=1, inplace=True)"
   ]
  },
  {
   "cell_type": "code",
   "execution_count": 70,
   "metadata": {},
   "outputs": [
    {
     "data": {
      "text/html": [
       "<div>\n",
       "<style scoped>\n",
       "    .dataframe tbody tr th:only-of-type {\n",
       "        vertical-align: middle;\n",
       "    }\n",
       "\n",
       "    .dataframe tbody tr th {\n",
       "        vertical-align: top;\n",
       "    }\n",
       "\n",
       "    .dataframe thead th {\n",
       "        text-align: right;\n",
       "    }\n",
       "</style>\n",
       "<table border=\"1\" class=\"dataframe\">\n",
       "  <thead>\n",
       "    <tr style=\"text-align: right;\">\n",
       "      <th></th>\n",
       "      <th>1</th>\n",
       "      <th>2</th>\n",
       "      <th>3</th>\n",
       "      <th>4</th>\n",
       "      <th>5</th>\n",
       "      <th>6</th>\n",
       "      <th>7</th>\n",
       "      <th>8</th>\n",
       "      <th>9</th>\n",
       "      <th>10</th>\n",
       "      <th>...</th>\n",
       "      <th>491</th>\n",
       "      <th>492</th>\n",
       "      <th>493</th>\n",
       "      <th>494</th>\n",
       "      <th>495</th>\n",
       "      <th>496</th>\n",
       "      <th>497</th>\n",
       "      <th>498</th>\n",
       "      <th>499</th>\n",
       "      <th>500</th>\n",
       "    </tr>\n",
       "  </thead>\n",
       "  <tbody>\n",
       "    <tr>\n",
       "      <th>count</th>\n",
       "      <td>10.000000</td>\n",
       "      <td>10.000000</td>\n",
       "      <td>10.0</td>\n",
       "      <td>10.000000</td>\n",
       "      <td>10.0</td>\n",
       "      <td>10.00000</td>\n",
       "      <td>10.0</td>\n",
       "      <td>10.000000</td>\n",
       "      <td>10.0</td>\n",
       "      <td>10.000000</td>\n",
       "      <td>...</td>\n",
       "      <td>10.000000</td>\n",
       "      <td>10.000000</td>\n",
       "      <td>10.000000</td>\n",
       "      <td>10.000000</td>\n",
       "      <td>10.000000</td>\n",
       "      <td>10.000000</td>\n",
       "      <td>10.000000</td>\n",
       "      <td>10.000000</td>\n",
       "      <td>10.000000</td>\n",
       "      <td>10.000000</td>\n",
       "    </tr>\n",
       "    <tr>\n",
       "      <th>mean</th>\n",
       "      <td>174.200000</td>\n",
       "      <td>171.600000</td>\n",
       "      <td>2500.0</td>\n",
       "      <td>175.000000</td>\n",
       "      <td>2500.0</td>\n",
       "      <td>172.90000</td>\n",
       "      <td>2500.0</td>\n",
       "      <td>174.500000</td>\n",
       "      <td>2500.0</td>\n",
       "      <td>172.100000</td>\n",
       "      <td>...</td>\n",
       "      <td>2034.600000</td>\n",
       "      <td>639.800000</td>\n",
       "      <td>2035.900000</td>\n",
       "      <td>639.000000</td>\n",
       "      <td>2035.800000</td>\n",
       "      <td>637.400000</td>\n",
       "      <td>2034.200000</td>\n",
       "      <td>638.700000</td>\n",
       "      <td>2034.200000</td>\n",
       "      <td>637.700000</td>\n",
       "    </tr>\n",
       "    <tr>\n",
       "      <th>std</th>\n",
       "      <td>8.521867</td>\n",
       "      <td>4.788876</td>\n",
       "      <td>0.0</td>\n",
       "      <td>7.745967</td>\n",
       "      <td>0.0</td>\n",
       "      <td>6.17252</td>\n",
       "      <td>0.0</td>\n",
       "      <td>8.058812</td>\n",
       "      <td>0.0</td>\n",
       "      <td>9.134185</td>\n",
       "      <td>...</td>\n",
       "      <td>981.149802</td>\n",
       "      <td>980.429248</td>\n",
       "      <td>978.416913</td>\n",
       "      <td>980.841136</td>\n",
       "      <td>978.626793</td>\n",
       "      <td>981.700701</td>\n",
       "      <td>981.992623</td>\n",
       "      <td>980.999269</td>\n",
       "      <td>981.992623</td>\n",
       "      <td>981.541311</td>\n",
       "    </tr>\n",
       "    <tr>\n",
       "      <th>min</th>\n",
       "      <td>159.000000</td>\n",
       "      <td>159.000000</td>\n",
       "      <td>2500.0</td>\n",
       "      <td>159.000000</td>\n",
       "      <td>2500.0</td>\n",
       "      <td>159.00000</td>\n",
       "      <td>2500.0</td>\n",
       "      <td>159.000000</td>\n",
       "      <td>2500.0</td>\n",
       "      <td>159.000000</td>\n",
       "      <td>...</td>\n",
       "      <td>171.000000</td>\n",
       "      <td>171.000000</td>\n",
       "      <td>171.000000</td>\n",
       "      <td>171.000000</td>\n",
       "      <td>171.000000</td>\n",
       "      <td>159.000000</td>\n",
       "      <td>171.000000</td>\n",
       "      <td>171.000000</td>\n",
       "      <td>171.000000</td>\n",
       "      <td>159.000000</td>\n",
       "    </tr>\n",
       "    <tr>\n",
       "      <th>25%</th>\n",
       "      <td>171.000000</td>\n",
       "      <td>171.000000</td>\n",
       "      <td>2500.0</td>\n",
       "      <td>171.250000</td>\n",
       "      <td>2500.0</td>\n",
       "      <td>171.25000</td>\n",
       "      <td>2500.0</td>\n",
       "      <td>172.000000</td>\n",
       "      <td>2500.0</td>\n",
       "      <td>171.000000</td>\n",
       "      <td>...</td>\n",
       "      <td>2500.000000</td>\n",
       "      <td>171.000000</td>\n",
       "      <td>2500.000000</td>\n",
       "      <td>171.000000</td>\n",
       "      <td>2500.000000</td>\n",
       "      <td>171.000000</td>\n",
       "      <td>2500.000000</td>\n",
       "      <td>171.000000</td>\n",
       "      <td>2500.000000</td>\n",
       "      <td>171.000000</td>\n",
       "    </tr>\n",
       "    <tr>\n",
       "      <th>50%</th>\n",
       "      <td>172.000000</td>\n",
       "      <td>172.000000</td>\n",
       "      <td>2500.0</td>\n",
       "      <td>175.000000</td>\n",
       "      <td>2500.0</td>\n",
       "      <td>173.50000</td>\n",
       "      <td>2500.0</td>\n",
       "      <td>173.500000</td>\n",
       "      <td>2500.0</td>\n",
       "      <td>171.000000</td>\n",
       "      <td>...</td>\n",
       "      <td>2500.000000</td>\n",
       "      <td>171.500000</td>\n",
       "      <td>2500.000000</td>\n",
       "      <td>173.500000</td>\n",
       "      <td>2500.000000</td>\n",
       "      <td>171.000000</td>\n",
       "      <td>2500.000000</td>\n",
       "      <td>172.000000</td>\n",
       "      <td>2500.000000</td>\n",
       "      <td>171.500000</td>\n",
       "    </tr>\n",
       "    <tr>\n",
       "      <th>75%</th>\n",
       "      <td>175.000000</td>\n",
       "      <td>175.000000</td>\n",
       "      <td>2500.0</td>\n",
       "      <td>181.750000</td>\n",
       "      <td>2500.0</td>\n",
       "      <td>175.00000</td>\n",
       "      <td>2500.0</td>\n",
       "      <td>175.000000</td>\n",
       "      <td>2500.0</td>\n",
       "      <td>174.250000</td>\n",
       "      <td>...</td>\n",
       "      <td>2500.000000</td>\n",
       "      <td>186.250000</td>\n",
       "      <td>2500.000000</td>\n",
       "      <td>181.750000</td>\n",
       "      <td>2500.000000</td>\n",
       "      <td>184.000000</td>\n",
       "      <td>2500.000000</td>\n",
       "      <td>181.750000</td>\n",
       "      <td>2500.000000</td>\n",
       "      <td>184.000000</td>\n",
       "    </tr>\n",
       "    <tr>\n",
       "      <th>max</th>\n",
       "      <td>188.000000</td>\n",
       "      <td>175.000000</td>\n",
       "      <td>2500.0</td>\n",
       "      <td>184.000000</td>\n",
       "      <td>2500.0</td>\n",
       "      <td>184.00000</td>\n",
       "      <td>2500.0</td>\n",
       "      <td>187.000000</td>\n",
       "      <td>2500.0</td>\n",
       "      <td>188.000000</td>\n",
       "      <td>...</td>\n",
       "      <td>2500.000000</td>\n",
       "      <td>2500.000000</td>\n",
       "      <td>2500.000000</td>\n",
       "      <td>2500.000000</td>\n",
       "      <td>2500.000000</td>\n",
       "      <td>2500.000000</td>\n",
       "      <td>2500.000000</td>\n",
       "      <td>2500.000000</td>\n",
       "      <td>2500.000000</td>\n",
       "      <td>2500.000000</td>\n",
       "    </tr>\n",
       "  </tbody>\n",
       "</table>\n",
       "<p>8 rows × 500 columns</p>\n",
       "</div>"
      ],
      "text/plain": [
       "                1           2       3           4       5          6       7  \\\n",
       "count   10.000000   10.000000    10.0   10.000000    10.0   10.00000    10.0   \n",
       "mean   174.200000  171.600000  2500.0  175.000000  2500.0  172.90000  2500.0   \n",
       "std      8.521867    4.788876     0.0    7.745967     0.0    6.17252     0.0   \n",
       "min    159.000000  159.000000  2500.0  159.000000  2500.0  159.00000  2500.0   \n",
       "25%    171.000000  171.000000  2500.0  171.250000  2500.0  171.25000  2500.0   \n",
       "50%    172.000000  172.000000  2500.0  175.000000  2500.0  173.50000  2500.0   \n",
       "75%    175.000000  175.000000  2500.0  181.750000  2500.0  175.00000  2500.0   \n",
       "max    188.000000  175.000000  2500.0  184.000000  2500.0  184.00000  2500.0   \n",
       "\n",
       "                8       9          10  ...          491          492  \\\n",
       "count   10.000000    10.0   10.000000  ...    10.000000    10.000000   \n",
       "mean   174.500000  2500.0  172.100000  ...  2034.600000   639.800000   \n",
       "std      8.058812     0.0    9.134185  ...   981.149802   980.429248   \n",
       "min    159.000000  2500.0  159.000000  ...   171.000000   171.000000   \n",
       "25%    172.000000  2500.0  171.000000  ...  2500.000000   171.000000   \n",
       "50%    173.500000  2500.0  171.000000  ...  2500.000000   171.500000   \n",
       "75%    175.000000  2500.0  174.250000  ...  2500.000000   186.250000   \n",
       "max    187.000000  2500.0  188.000000  ...  2500.000000  2500.000000   \n",
       "\n",
       "               493          494          495          496          497  \\\n",
       "count    10.000000    10.000000    10.000000    10.000000    10.000000   \n",
       "mean   2035.900000   639.000000  2035.800000   637.400000  2034.200000   \n",
       "std     978.416913   980.841136   978.626793   981.700701   981.992623   \n",
       "min     171.000000   171.000000   171.000000   159.000000   171.000000   \n",
       "25%    2500.000000   171.000000  2500.000000   171.000000  2500.000000   \n",
       "50%    2500.000000   173.500000  2500.000000   171.000000  2500.000000   \n",
       "75%    2500.000000   181.750000  2500.000000   184.000000  2500.000000   \n",
       "max    2500.000000  2500.000000  2500.000000  2500.000000  2500.000000   \n",
       "\n",
       "               498          499          500  \n",
       "count    10.000000    10.000000    10.000000  \n",
       "mean    638.700000  2034.200000   637.700000  \n",
       "std     980.999269   981.992623   981.541311  \n",
       "min     171.000000   171.000000   159.000000  \n",
       "25%     171.000000  2500.000000   171.000000  \n",
       "50%     172.000000  2500.000000   171.500000  \n",
       "75%     181.750000  2500.000000   184.000000  \n",
       "max    2500.000000  2500.000000  2500.000000  \n",
       "\n",
       "[8 rows x 500 columns]"
      ]
     },
     "execution_count": 70,
     "metadata": {},
     "output_type": "execute_result"
    }
   ],
   "source": [
    "dfs_runs[1].describe()"
   ]
  },
  {
   "cell_type": "code",
   "execution_count": 96,
   "metadata": {},
   "outputs": [
    {
     "data": {
      "text/plain": [
       "<Axes: >"
      ]
     },
     "execution_count": 96,
     "metadata": {},
     "output_type": "execute_result"
    },
    {
     "data": {
      "image/png": "[encoded data removed]",
      "text/plain": [
       "<Figure size 640x480 with 1 Axes>"
      ]
     },
     "metadata": {},
     "output_type": "display_data"
    }
   ],
   "source": [
    "dfs_runs[1].iloc[0,:40].plot()"
   ]
  },
  {
   "cell_type": "code",
   "execution_count": 97,
   "metadata": {},
   "outputs": [
    {
     "data": {
      "text/plain": [
       "<Axes: >"
      ]
     },
     "execution_count": 97,
     "metadata": {},
     "output_type": "execute_result"
    },
    {
     "data": {
      "image/png": "[encoded data removed]",
      "text/plain": [
       "<Figure size 640x480 with 1 Axes>"
      ]
     },
     "metadata": {},
     "output_type": "display_data"
    }
   ],
   "source": [
    "dfs_runs[0].iloc[0,:40].plot()"
   ]
  },
  {
   "cell_type": "code",
   "execution_count": 98,
   "metadata": {},
   "outputs": [
    {
     "data": {
      "text/plain": [
       "<Axes: >"
      ]
     },
     "execution_count": 98,
     "metadata": {},
     "output_type": "execute_result"
    },
    {
     "data": {
      "image/png": "[encoded data removed]",
      "text/plain": [
       "<Figure size 640x480 with 1 Axes>"
      ]
     },
     "metadata": {},
     "output_type": "display_data"
    }
   ],
   "source": [
    "dfs_runs[2].iloc[0,:40].plot()"
   ]
  },
  {
   "cell_type": "code",
   "execution_count": 36,
   "metadata": {},
   "outputs": [],
   "source": [
    "# get the standard deviation of all dfs in df_runs\n",
    "stds = []\n",
    "for df in dfs_runs:\n",
    "    stds.append(df.std(axis=1))\n"
   ]
  },
  {
   "cell_type": "code",
   "execution_count": 39,
   "metadata": {},
   "outputs": [],
   "source": [
    "means = []\n",
    "for df in dfs_runs:\n",
    "    means.append(df.mean(axis=1))"
   ]
  },
  {
   "cell_type": "code",
   "execution_count": 40,
   "metadata": {},
   "outputs": [],
   "source": [
    "means_of_stds = []\n",
    "for std in stds:\n",
    "    means_of_stds.append(std.mean())\n"
   ]
  },
  {
   "cell_type": "code",
   "execution_count": 41,
   "metadata": {},
   "outputs": [],
   "source": [
    "means_of_means = []\n",
    "for mean in means:\n",
    "    means_of_means.append(mean.mean())"
   ]
  },
  {
   "cell_type": "code",
   "execution_count": 42,
   "metadata": {},
   "outputs": [
    {
     "data": {
      "text/plain": [
       "[241.72837583581637,\n",
       " 1164.5354050011074,\n",
       " 5.421833131451805,\n",
       " 241.44087496613164,\n",
       " 3.0979271114084246,\n",
       " 186.91845365688067,\n",
       " 1162.1111695375998,\n",
       " 7.829908058507802,\n",
       " 169.4297717105282,\n",
       " 5.413787928903438]"
      ]
     },
     "execution_count": 42,
     "metadata": {},
     "output_type": "execute_result"
    }
   ],
   "source": [
    "means_of_stds"
   ]
  },
  {
   "cell_type": "code",
   "execution_count": 43,
   "metadata": {},
   "outputs": [
    {
     "data": {
      "text/plain": [
       "[201.82819999999998,\n",
       " 1331.9734,\n",
       " 172.92520000000002,\n",
       " 200.5808,\n",
       " 172.0988,\n",
       " 194.83599999999998,\n",
       " 1334.405,\n",
       " 182.522,\n",
       " 194.61459999999997,\n",
       " 183.02320000000003]"
      ]
     },
     "execution_count": 43,
     "metadata": {},
     "output_type": "execute_result"
    }
   ],
   "source": [
    "means_of_means"
   ]
  },
  {
   "cell_type": "code",
   "execution_count": 85,
   "metadata": {},
   "outputs": [],
   "source": [
    "# create a rendered matrix with all the values in means_of_stds\n",
    "import numpy as np\n",
    "\n",
    "\n",
    "MQTT_an_25 = [0,3,2]\n",
    "MQTT_aus_25 = [1,4]\n",
    "MQTT_an_33 = [5,8,7]\n",
    "MQTT_aus_33 = [6,9]\n",
    "\n",
    "\n",
    "# get the data from means_of_stds usding the indexes from MQTT_an_25 \n",
    "data_an_25_std = [means_of_stds[i] for i in MQTT_an_25]\n",
    "data_aus_25_std = [means_of_stds[i] for i in MQTT_aus_25]\n",
    "data_an_33_std = [means_of_stds[i] for i in MQTT_an_33]\n",
    "data_aus_33_std = [means_of_stds[i] for i in MQTT_aus_33]\n",
    "\n",
    "data_std = [data_an_25_std, data_aus_25_std, data_an_33_std, data_aus_33_std]\n",
    "\n",
    "# get the data from means_of_means usding the indexes from MQTT_an_25 \n",
    "data_an_25_mean = [means_of_means[i] for i in MQTT_an_25]\n",
    "data_aus_25_mean = [means_of_means[i] for i in MQTT_aus_25]\n",
    "data_an_33_mean = [means_of_means[i] for i in MQTT_an_33]\n",
    "data_aus_33_mean = [means_of_means[i] for i in MQTT_aus_33]\n",
    "\n",
    "data_mean = [data_an_25_mean, data_aus_25_mean, data_an_33_mean, data_aus_33_mean]\n"
   ]
  },
  {
   "cell_type": "code",
   "execution_count": 73,
   "metadata": {},
   "outputs": [
    {
     "data": {
      "text/html": [
       "<div>\n",
       "<style scoped>\n",
       "    .dataframe tbody tr th:only-of-type {\n",
       "        vertical-align: middle;\n",
       "    }\n",
       "\n",
       "    .dataframe tbody tr th {\n",
       "        vertical-align: top;\n",
       "    }\n",
       "\n",
       "    .dataframe thead th {\n",
       "        text-align: right;\n",
       "    }\n",
       "</style>\n",
       "<table border=\"1\" class=\"dataframe\">\n",
       "  <thead>\n",
       "    <tr style=\"text-align: right;\">\n",
       "      <th></th>\n",
       "      <th>0</th>\n",
       "      <th>1</th>\n",
       "      <th>2</th>\n",
       "    </tr>\n",
       "  </thead>\n",
       "  <tbody>\n",
       "    <tr>\n",
       "      <th>0</th>\n",
       "      <td>241.728376</td>\n",
       "      <td>241.440875</td>\n",
       "      <td>5.421833</td>\n",
       "    </tr>\n",
       "  </tbody>\n",
       "</table>\n",
       "</div>"
      ],
      "text/plain": [
       "            0           1         2\n",
       "0  241.728376  241.440875  5.421833"
      ]
     },
     "execution_count": 73,
     "metadata": {},
     "output_type": "execute_result"
    }
   ],
   "source": [
    "\n",
    "pd.DataFrame(data_std[0]).T"
   ]
  },
  {
   "cell_type": "code",
   "execution_count": 81,
   "metadata": {},
   "outputs": [],
   "source": [
    "df_stds = pd.DataFrame()\n",
    "\n",
    "for i in range(len(data_std)):\n",
    "    df_stds = pd.concat([df_stds, pd.DataFrame(data_std[i]).T], axis=0)\n",
    "\n",
    "# Name the rows with the corresponding MQTT\n",
    "df_stds.index = ['MQTT_an_25', 'MQTT_aus_25', 'MQTT_an_33', 'MQTT_aus_33']\n",
    "\n",
    "# name the columns\n",
    "df_stds.columns = ['keine Pause', '0.005 Pause', '0.05 Pause']\n",
    "\n",
    "# give the DataFrame a name\n",
    "df_stds.name = \"Durchschnitt der Standardabweichungen pro Bedingung\""
   ]
  },
  {
   "cell_type": "code",
   "execution_count": 82,
   "metadata": {},
   "outputs": [
    {
     "data": {
      "text/html": [
       "<div>\n",
       "<style scoped>\n",
       "    .dataframe tbody tr th:only-of-type {\n",
       "        vertical-align: middle;\n",
       "    }\n",
       "\n",
       "    .dataframe tbody tr th {\n",
       "        vertical-align: top;\n",
       "    }\n",
       "\n",
       "    .dataframe thead th {\n",
       "        text-align: right;\n",
       "    }\n",
       "</style>\n",
       "<table border=\"1\" class=\"dataframe\">\n",
       "  <thead>\n",
       "    <tr style=\"text-align: right;\">\n",
       "      <th></th>\n",
       "      <th>keine Pause</th>\n",
       "      <th>0.005 Pause</th>\n",
       "      <th>0.05 Pause</th>\n",
       "    </tr>\n",
       "  </thead>\n",
       "  <tbody>\n",
       "    <tr>\n",
       "      <th>MQTT_an_25</th>\n",
       "      <td>241.728376</td>\n",
       "      <td>241.440875</td>\n",
       "      <td>5.421833</td>\n",
       "    </tr>\n",
       "    <tr>\n",
       "      <th>MQTT_aus_25</th>\n",
       "      <td>1164.535405</td>\n",
       "      <td>3.097927</td>\n",
       "      <td>NaN</td>\n",
       "    </tr>\n",
       "    <tr>\n",
       "      <th>MQTT_an_33</th>\n",
       "      <td>186.918454</td>\n",
       "      <td>169.429772</td>\n",
       "      <td>7.829908</td>\n",
       "    </tr>\n",
       "    <tr>\n",
       "      <th>MQTT_aus_33</th>\n",
       "      <td>1162.111170</td>\n",
       "      <td>5.413788</td>\n",
       "      <td>NaN</td>\n",
       "    </tr>\n",
       "  </tbody>\n",
       "</table>\n",
       "</div>"
      ],
      "text/plain": [
       "             keine Pause  0.005 Pause  0.05 Pause\n",
       "MQTT_an_25    241.728376   241.440875    5.421833\n",
       "MQTT_aus_25  1164.535405     3.097927         NaN\n",
       "MQTT_an_33    186.918454   169.429772    7.829908\n",
       "MQTT_aus_33  1162.111170     5.413788         NaN"
      ]
     },
     "execution_count": 82,
     "metadata": {},
     "output_type": "execute_result"
    }
   ],
   "source": [
    "df_stds"
   ]
  },
  {
   "cell_type": "code",
   "execution_count": 102,
   "metadata": {},
   "outputs": [],
   "source": [
    "df_means = pd.DataFrame()\n",
    "\n",
    "for i in range(len(data_mean)):\n",
    "    df_means = pd.concat([df_means, pd.DataFrame(data_mean[i]).T], axis=0)\n",
    "\n",
    "# Name the rows with the corresponding MQTT\n",
    "df_means.index = ['MQTT_an_25', 'MQTT_aus_25', 'MQTT_an_33', 'MQTT_aus_33']\n",
    "\n",
    "# name the columns\n",
    "df_means.columns = ['keine Pause', '0.005 Pause', '0.05 Pause']\n",
    "\n",
    "# give the DataFrame a name\n",
    "df_means.name = \"Durchschnitt der Durchschnitte pro Bedingung\"\n",
    "\n"
   ]
  },
  {
   "cell_type": "code",
   "execution_count": 103,
   "metadata": {},
   "outputs": [
    {
     "data": {
      "text/html": [
       "<div>\n",
       "<style scoped>\n",
       "    .dataframe tbody tr th:only-of-type {\n",
       "        vertical-align: middle;\n",
       "    }\n",
       "\n",
       "    .dataframe tbody tr th {\n",
       "        vertical-align: top;\n",
       "    }\n",
       "\n",
       "    .dataframe thead th {\n",
       "        text-align: right;\n",
       "    }\n",
       "</style>\n",
       "<table border=\"1\" class=\"dataframe\">\n",
       "  <thead>\n",
       "    <tr style=\"text-align: right;\">\n",
       "      <th></th>\n",
       "      <th>keine Pause</th>\n",
       "      <th>0.005 Pause</th>\n",
       "      <th>0.05 Pause</th>\n",
       "    </tr>\n",
       "  </thead>\n",
       "  <tbody>\n",
       "    <tr>\n",
       "      <th>MQTT_an_25</th>\n",
       "      <td>201.8282</td>\n",
       "      <td>200.5808</td>\n",
       "      <td>172.9252</td>\n",
       "    </tr>\n",
       "    <tr>\n",
       "      <th>MQTT_aus_25</th>\n",
       "      <td>1331.9734</td>\n",
       "      <td>172.0988</td>\n",
       "      <td>NaN</td>\n",
       "    </tr>\n",
       "    <tr>\n",
       "      <th>MQTT_an_33</th>\n",
       "      <td>194.8360</td>\n",
       "      <td>194.6146</td>\n",
       "      <td>182.5220</td>\n",
       "    </tr>\n",
       "    <tr>\n",
       "      <th>MQTT_aus_33</th>\n",
       "      <td>1334.4050</td>\n",
       "      <td>183.0232</td>\n",
       "      <td>NaN</td>\n",
       "    </tr>\n",
       "  </tbody>\n",
       "</table>\n",
       "</div>"
      ],
      "text/plain": [
       "             keine Pause  0.005 Pause  0.05 Pause\n",
       "MQTT_an_25      201.8282     200.5808    172.9252\n",
       "MQTT_aus_25    1331.9734     172.0988         NaN\n",
       "MQTT_an_33      194.8360     194.6146    182.5220\n",
       "MQTT_aus_33    1334.4050     183.0232         NaN"
      ]
     },
     "execution_count": 103,
     "metadata": {},
     "output_type": "execute_result"
    }
   ],
   "source": [
    "df_means"
   ]
  },
  {
   "cell_type": "markdown",
   "metadata": {},
   "source": [
    "# These aus den Beobachtungen\n",
    "Wenn lediglich gemessen wird, ohne dass eine Sendung via MQTT stattfindet, folgen Messungen immer sofort auf Messungen. In den Daten ist zu beobachten, dass im Schnitt jede Zweite Messung fehlerhaft ist.\n",
    "Sobald ein Warteprozess via ``time.sleep()`` oder durch eine Sendung via MQTT zwischen den Abstandsmessungen liegt, sinkt die Standardabweichung erheblich. Die besten Ergebnisse können erzielt werden, wenn lange Wartezeiten zwischen zwei aufeinanderfolgenden Messungen liegen.  \n",
    "Die Dauer des MQTT-Sendeprozesses allein reicht jedoch nicht aus, um die Ergebnisse ausreichend zu verbessern.\n",
    "\n",
    "Im Sinne des schnellen Scannens der Objekte muss die Wartezeit im weiteren Verlauf optimiert werden, sodass der beste Kompromiss zwischen Messdauer und Messqualität gefunden werden kann.  \n",
    "Eine weitere Beobachtung ist die deutliche Verringerung der Standardabweichung bei gleichen Bedingungen unter der Veränderung des GPIO Pins von **25** zu **33**.  \n",
    "Die wahre Distanz zwischen Objekt betrug in allen Messungen ca. 182 mm. Hierbei zeigt **GPIO Pin 33** ebenfalls bessere Ergebnisse als Pin 25 bei gleichen Bedingungen."
   ]
  },
  {
   "cell_type": "code",
   "execution_count": null,
   "metadata": {},
   "outputs": [],
   "source": []
  }
 ],
 "metadata": {
  "kernelspec": {
   "display_name": "Python 3",
   "language": "python",
   "name": "python3"
  },
  "language_info": {
   "codemirror_mode": {
    "name": "ipython",
    "version": 3
   },
   "file_extension": ".py",
   "mimetype": "text/x-python",
   "name": "python",
   "nbconvert_exporter": "python",
   "pygments_lexer": "ipython3",
   "version": "3.12.0"
  }
 },
 "nbformat": 4,
 "nbformat_minor": 2
}
